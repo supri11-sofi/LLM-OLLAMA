{
 "cells": [
  {
   "cell_type": "code",
   "execution_count": 1,
   "id": "be7b054f-7cfd-413b-88de-8aea1c9872ce",
   "metadata": {},
   "outputs": [],
   "source": [
    "\n",
    "import os\n",
    "import requests\n",
    "from dotenv import load_dotenv\n",
    "from bs4 import BeautifulSoup\n",
    "from IPython.display import Markdown, display\n",
    "from openai import OpenAI"
   ]
  },
  {
   "cell_type": "code",
   "execution_count": 3,
   "id": "c4c360f8-adc1-4d9f-89b6-933e3953dddb",
   "metadata": {},
   "outputs": [
    {
     "name": "stdout",
     "output_type": "stream",
     "text": [
      "Collecting ollama\n",
      "  Downloading ollama-0.4.8-py3-none-any.whl (13 kB)\n",
      "Requirement already satisfied: pydantic<3.0.0,>=2.9.0 in c:\\users\\supri\\anaconda3\\lib\\site-packages (from ollama) (2.11.2)\n",
      "Requirement already satisfied: httpx<0.29,>=0.27 in c:\\users\\supri\\anaconda3\\lib\\site-packages (from ollama) (0.28.1)\n",
      "Requirement already satisfied: httpcore==1.* in c:\\users\\supri\\anaconda3\\lib\\site-packages (from httpx<0.29,>=0.27->ollama) (1.0.7)\n",
      "Requirement already satisfied: idna in c:\\users\\supri\\anaconda3\\lib\\site-packages (from httpx<0.29,>=0.27->ollama) (3.3)\n",
      "Requirement already satisfied: anyio in c:\\users\\supri\\anaconda3\\lib\\site-packages (from httpx<0.29,>=0.27->ollama) (3.5.0)\n",
      "Requirement already satisfied: certifi in c:\\users\\supri\\anaconda3\\lib\\site-packages (from httpx<0.29,>=0.27->ollama) (2024.8.30)\n",
      "Requirement already satisfied: h11<0.15,>=0.13 in c:\\users\\supri\\anaconda3\\lib\\site-packages (from httpcore==1.*->httpx<0.29,>=0.27->ollama) (0.14.0)\n",
      "Requirement already satisfied: annotated-types>=0.6.0 in c:\\users\\supri\\anaconda3\\lib\\site-packages (from pydantic<3.0.0,>=2.9.0->ollama) (0.7.0)\n",
      "Requirement already satisfied: typing-inspection>=0.4.0 in c:\\users\\supri\\anaconda3\\lib\\site-packages (from pydantic<3.0.0,>=2.9.0->ollama) (0.4.0)\n",
      "Requirement already satisfied: typing-extensions>=4.12.2 in c:\\users\\supri\\anaconda3\\lib\\site-packages (from pydantic<3.0.0,>=2.9.0->ollama) (4.12.2)\n",
      "Requirement already satisfied: pydantic-core==2.33.1 in c:\\users\\supri\\anaconda3\\lib\\site-packages (from pydantic<3.0.0,>=2.9.0->ollama) (2.33.1)\n",
      "Requirement already satisfied: sniffio>=1.1 in c:\\users\\supri\\anaconda3\\lib\\site-packages (from anyio->httpx<0.29,>=0.27->ollama) (1.2.0)\n",
      "Installing collected packages: ollama\n",
      "Successfully installed ollama-0.4.8\n",
      "Note: you may need to restart the kernel to use updated packages.\n"
     ]
    },
    {
     "name": "stderr",
     "output_type": "stream",
     "text": [
      "WARNING: Ignoring invalid distribution -ensorflow-intel (c:\\users\\supri\\anaconda3\\lib\\site-packages)\n",
      "WARNING: Ignoring invalid distribution -ensorflow-intel (c:\\users\\supri\\anaconda3\\lib\\site-packages)\n",
      "WARNING: Ignoring invalid distribution -ensorflow-intel (c:\\users\\supri\\anaconda3\\lib\\site-packages)\n",
      "WARNING: Ignoring invalid distribution -ensorflow-intel (c:\\users\\supri\\anaconda3\\lib\\site-packages)\n",
      "WARNING: Ignoring invalid distribution -ensorflow-intel (c:\\users\\supri\\anaconda3\\lib\\site-packages)\n",
      "WARNING: Ignoring invalid distribution -ensorflow-intel (c:\\users\\supri\\anaconda3\\lib\\site-packages)\n",
      "WARNING: Ignoring invalid distribution -ensorflow-intel (c:\\users\\supri\\anaconda3\\lib\\site-packages)\n"
     ]
    }
   ],
   "source": [
    "pip install ollama"
   ]
  },
  {
   "cell_type": "code",
   "execution_count": 4,
   "id": "32067828-c680-4a67-b52e-d7719518c428",
   "metadata": {},
   "outputs": [
    {
     "name": "stdout",
     "output_type": "stream",
     "text": [
      "It's nice to meet you. Is there something I can help you with or would you like to have a conversation?\n"
     ]
    }
   ],
   "source": [
    "import ollama\n",
    "\n",
    "response = ollama.chat(\n",
    "    model='llama3.2',  \n",
    "    messages=[{'role': 'user', 'content': 'Hello, Ollama!'}]\n",
    ")\n",
    "\n",
    "print(response['message']['content'])"
   ]
  },
  {
   "cell_type": "code",
   "execution_count": 5,
   "id": "f5db4658-a644-43df-84ce-d1d9112cad97",
   "metadata": {},
   "outputs": [],
   "source": [
    "headers = {\n",
    " \"User-Agent\": \"Mozilla/5.0 (Windows NT 10.0; Win64; x64) AppleWebKit/537.36 (KHTML, like Gecko) Chrome/117.0.0.0 Safari/537.36\"\n",
    "}\n",
    "\n",
    "class Website:\n",
    "\n",
    "    def __init__(self, url):\n",
    "        \"\"\"\n",
    "        Create this Website object from the given url using the BeautifulSoup library\n",
    "        \"\"\"\n",
    "        self.url = url\n",
    "        response = requests.get(url, headers=headers)\n",
    "        soup = BeautifulSoup(response.content, 'html.parser')\n",
    "        self.title = soup.title.string if soup.title else \"No title found\"\n",
    "        for irrelevant in soup.body([\"script\", \"style\", \"img\", \"input\"]):\n",
    "            irrelevant.decompose()\n",
    "        self.text = soup.body.get_text(separator=\"\\n\", strip=True)"
   ]
  },
  {
   "cell_type": "code",
   "execution_count": 12,
   "id": "231778e2-6d72-4d05-ba1d-0e32d8bba62f",
   "metadata": {},
   "outputs": [],
   "source": [
    "headers = {\n",
    "    \"User-Agent\": \"Mozilla/5.0 (Windows NT 10.0; Win64; x64) AppleWebKit/537.36 (KHTML, like Gecko) Chrome/117.0.0.0 Safari/537.36\"\n",
    "}\n",
    "\n",
    "class Website:\n",
    "    def __init__(self, url):\n",
    "        self.url = url\n",
    "        response = requests.get(url, headers=headers)\n",
    "        soup = BeautifulSoup(response.content, 'html.parser')\n",
    "        self.title = soup.title.string if soup.title else \"No title found\"\n",
    "\n",
    "        for irrelevant in soup([\"script\", \"style\", \"img\", \"input\"]):\n",
    "            irrelevant.decompose()\n",
    "\n",
    "        main_content = soup.find('main')\n",
    "        if main_content:\n",
    "            raw_text = main_content.get_text(separator=\"\\n\", strip=True)\n",
    "        else:\n",
    "            raw_text = soup.body.get_text(separator=\"\\n\", strip=True)\n",
    "\n",
    "        lines = raw_text.splitlines()\n",
    "        useful_lines = [\n",
    "            line for line in lines\n",
    "            if len(line.strip()) > 20\n",
    "            and not any(nav_word in line.lower() for nav_word in [\"home\", \"login\", \"signup\", \"about\", \"contact\", \"terms\", \"privacy\"])\n",
    "        ]\n",
    "        self.text = \"\\n\".join(useful_lines)\n"
   ]
  },
  {
   "cell_type": "code",
   "execution_count": 13,
   "id": "0d7b0dbd-17fc-4a4a-a994-20b7c42be4c3",
   "metadata": {},
   "outputs": [
    {
     "name": "stdout",
     "output_type": "stream",
     "text": [
      "Generative AI\n",
      "Stay ahead of the curve with our Newsletter!\n",
      "Join the Updated Course on Building with AI in 2025\n",
      "Join the Updated Course on Building with AI in 2025\n",
      "Join the Updated Course on Building with AI in 2025 〰️\n",
      "Learn how to build any software with AI\n",
      "Join the 1st Batch of\n",
      "Everyone can Code! ✨ Re-Launch!\n",
      "The Updated 1st batch of the world’s most enabling course on AI.\n",
      "Learn how to build anything with AI.\n",
      "✓ Comprehensive Video Lessons + Frameworks\n",
      "✓ Office Hours w/ Martin (+ optional private sessions)\n",
      "✓ Unlimited Lifetime Access\n",
      "What is Generative AI?\n",
      "What are LLMs and SLMs?\n",
      "creates new content, like text or images, based on patterns in data.\n",
      "Large Language Models (LLMs)\n",
      "are a powerful form of this AI, generating human-like text, while\n",
      "Small Language Models (SLMs)\n",
      "focus on specialized tasks with less data.\n",
      "Retrieval-Augmented Generation (RAG)\n",
      "enhances these models by pulling in external information for more accurate results.\n",
      "use generative AI to autonomously perform tasks such as writing or research. Together, they represent cutting-edge advancements in automation and creativity.\n",
      "“AI can not only boost our analytic and decision-making abilities but also heighten creativity.”\n",
      "— Harvard Business Review\n",
      "The Power of Generative AI\n",
      "Generative AI is revolutionizing communication, work, and innovation.\n",
      "With tools like ChatGPT, Gemini, and ClaudeAI reaching millions of users, its impact is undeniable.\n",
      "Its widespread use on GitHub shows its transformative power. Already reshaping industries, its influence will only expand.\n",
      "Let’s explore some key applications:\n",
      "Text Generation involves using machine learning models to generate new text based on patterns learned from existing text data. The models used for text generation can be\n",
      "Markov Chains, Recurrent Neural Networks\n",
      "(RNNs), and more recently,\n",
      ", which have revolutionized the field due to their extended attention span. Text generation has numerous applications in the realm of natural language processing, chatbots, and content creation.\n",
      ", developed by OpenAI, is a successful platform that uses Text Generation to generate human-like responses in chat conversations.\n",
      "Example of ChatGPT in use\n",
      "Image Generation is a process of using deep learning algorithms such as\n",
      "to create new images that are visually similar to real-world images. Image Generation can be used for data augmentation to improve the performance of machine learning models, as well as in creating art, generating product images, and more.\n",
      "🪄 Application: Very successful platforms such as\n",
      "have become a popular choice for anyone seeking to generate realistic images through Image Generation techniques.\n",
      "Image generated with MidJourney\n",
      "Video and speech Generation\n",
      "Video Generation involves deep learning methods such as\n",
      "to generate new videos by predicting frames based on previous frames. Video Generation can be used in various fields, such as entertainment, sports analysis, and autonomous driving. Video Generation can be often seen in use with Speech Generation. The models used for speech generation can be powered by\n",
      ". Speech Generation can be used in text-to-speech conversion, virtual assistants, and voice cloning.\n",
      "🪄 Application: Platforms such as\n",
      "utilize Video and Speech Generation to create realistic video content, that appears as if a human was speaking on camera.\n",
      "Video fully generated (including the human avatar) with\n",
      ". Prompt given: “How to prepare for a spaceship adventure as a cat”.\n",
      "Data augumentation is a process of generating new training data by applying various image transformations such as flipping, cropping, rotating, and color jittering. The goal is to increase the diversity of training data and avoid overfitting, which can lead to better performance of machine learning models.\n",
      "simplifies the process of building and optimizing machine learning models by providing a platform for creating AI models using automated machine learning techniques.\n",
      "has a diverse range of applications that go beyond text, video, image, speech generation, and data augmentation. For instance, it can be used for\n",
      "music generation, game development, healthcare\n",
      ", and more. In healthcare, generative AI can help\n",
      "generate synthetic medical data to train machine learning models, develop new drug candidates, and design clinical trials\n",
      ". These are just some examples of the many possibilities for generative AI, and as the technology advances, we can expect to see more applications emerge.\n",
      "It's an exciting time to dive into Generative AI! With this field in its early stages, those who gain the necessary skills and knowledge have the opportunity to shape its future. Get ready for an exciting journey!\n",
      "Adapting Pretrained Vision-Language Foundational Models to Medical Imaging Domains.\n",
      "Join our comprehensive online course and learn the fundamentals of this cutting-edge topic area. Whether you're a beginner or an experienced professional, this course will equip you with the knowledge you need to succeed. Enroll now!\n"
     ]
    }
   ],
   "source": [
    "AI = Website(\"https://generativeai.net/\")\n",
    "print(AI.title)\n",
    "print(AI.text)"
   ]
  },
  {
   "cell_type": "code",
   "execution_count": 14,
   "id": "91d396db-bd0b-4804-8477-19f2a6f5e4a8",
   "metadata": {},
   "outputs": [],
   "source": [
    "#It ignored menus like \"Home\", \"About\", etc.\n",
    "#It summarized the content.\n",
    "#It responded in Markdown format.\n",
    "\n",
    "system_prompt = \"You are an assistant that analyzes the contents of a website \\\n",
    "and provides a short summary, ignoring text that might be navigation related. \\\n",
    "Respond in markdown.\"\n"
   ]
  },
  {
   "cell_type": "code",
   "execution_count": 15,
   "id": "119a1b47-e754-4011-a9c6-ea0fb7f0d95b",
   "metadata": {},
   "outputs": [],
   "source": [
    "#It prepares the message we want to send to the AI, combining the website title, website text, and clear instructions about summarizing.\n",
    "def user_prompt_for(website):\n",
    "    user_prompt = f\"## Website Title: {website.title}\\n\\n\"\n",
    "    user_prompt += \"### Instructions:\\n\"\n",
    "    user_prompt += \"- Summarize the website content below.\\n\"\n",
    "    user_prompt += \"- If there are news or announcements, include them.\\n\"\n",
    "    user_prompt += \"- Write the output in markdown.\\n\\n\"\n",
    "    user_prompt += \"### Website Content:\\n\"\n",
    "    user_prompt += website.text\n",
    "    return user_prompt"
   ]
  },
  {
   "cell_type": "code",
   "execution_count": 16,
   "id": "3ef04909-7582-46ba-8e27-197d7653a000",
   "metadata": {},
   "outputs": [
    {
     "name": "stdout",
     "output_type": "stream",
     "text": [
      "## Website Title: Generative AI\n",
      "\n",
      "### Instructions:\n",
      "- Summarize the website content below.\n",
      "- If there are news or announcements, include them.\n",
      "- Write the output in markdown.\n",
      "\n",
      "### Website Content:\n",
      "Stay ahead of the curve with our Newsletter!\n",
      "Join the Updated Course on Building with AI in 2025\n",
      "Join the Updated Course on Building with AI in 2025\n",
      "Join the Updated Course on Building with AI in 2025 〰️\n",
      "Learn how to build any software with AI\n",
      "Join the 1st Batch of\n",
      "Everyone can Code! ✨ Re-Launch!\n",
      "The Updated 1st batch of the world’s most enabling course on AI.\n",
      "Learn how to build anything with AI.\n",
      "✓ Comprehensive Video Lessons + Frameworks\n",
      "✓ Office Hours w/ Martin (+ optional private sessions)\n",
      "✓ Unlimited Lifetime Access\n",
      "What is Generative AI?\n",
      "What are LLMs and SLMs?\n",
      "creates new content, like text or images, based on patterns in data.\n",
      "Large Language Models (LLMs)\n",
      "are a powerful form of this AI, generating human-like text, while\n",
      "Small Language Models (SLMs)\n",
      "focus on specialized tasks with less data.\n",
      "Retrieval-Augmented Generation (RAG)\n",
      "enhances these models by pulling in external information for more accurate results.\n",
      "use generative AI to autonomously perform tasks such as writing or research. Together, they represent cutting-edge advancements in automation and creativity.\n",
      "“AI can not only boost our analytic and decision-making abilities but also heighten creativity.”\n",
      "— Harvard Business Review\n",
      "The Power of Generative AI\n",
      "Generative AI is revolutionizing communication, work, and innovation.\n",
      "With tools like ChatGPT, Gemini, and ClaudeAI reaching millions of users, its impact is undeniable.\n",
      "Its widespread use on GitHub shows its transformative power. Already reshaping industries, its influence will only expand.\n",
      "Let’s explore some key applications:\n",
      "Text Generation involves using machine learning models to generate new text based on patterns learned from existing text data. The models used for text generation can be\n",
      "Markov Chains, Recurrent Neural Networks\n",
      "(RNNs), and more recently,\n",
      ", which have revolutionized the field due to their extended attention span. Text generation has numerous applications in the realm of natural language processing, chatbots, and content creation.\n",
      ", developed by OpenAI, is a successful platform that uses Text Generation to generate human-like responses in chat conversations.\n",
      "Example of ChatGPT in use\n",
      "Image Generation is a process of using deep learning algorithms such as\n",
      "to create new images that are visually similar to real-world images. Image Generation can be used for data augmentation to improve the performance of machine learning models, as well as in creating art, generating product images, and more.\n",
      "🪄 Application: Very successful platforms such as\n",
      "have become a popular choice for anyone seeking to generate realistic images through Image Generation techniques.\n",
      "Image generated with MidJourney\n",
      "Video and speech Generation\n",
      "Video Generation involves deep learning methods such as\n",
      "to generate new videos by predicting frames based on previous frames. Video Generation can be used in various fields, such as entertainment, sports analysis, and autonomous driving. Video Generation can be often seen in use with Speech Generation. The models used for speech generation can be powered by\n",
      ". Speech Generation can be used in text-to-speech conversion, virtual assistants, and voice cloning.\n",
      "🪄 Application: Platforms such as\n",
      "utilize Video and Speech Generation to create realistic video content, that appears as if a human was speaking on camera.\n",
      "Video fully generated (including the human avatar) with\n",
      ". Prompt given: “How to prepare for a spaceship adventure as a cat”.\n",
      "Data augumentation is a process of generating new training data by applying various image transformations such as flipping, cropping, rotating, and color jittering. The goal is to increase the diversity of training data and avoid overfitting, which can lead to better performance of machine learning models.\n",
      "simplifies the process of building and optimizing machine learning models by providing a platform for creating AI models using automated machine learning techniques.\n",
      "has a diverse range of applications that go beyond text, video, image, speech generation, and data augmentation. For instance, it can be used for\n",
      "music generation, game development, healthcare\n",
      ", and more. In healthcare, generative AI can help\n",
      "generate synthetic medical data to train machine learning models, develop new drug candidates, and design clinical trials\n",
      ". These are just some examples of the many possibilities for generative AI, and as the technology advances, we can expect to see more applications emerge.\n",
      "It's an exciting time to dive into Generative AI! With this field in its early stages, those who gain the necessary skills and knowledge have the opportunity to shape its future. Get ready for an exciting journey!\n",
      "Adapting Pretrained Vision-Language Foundational Models to Medical Imaging Domains.\n",
      "Join our comprehensive online course and learn the fundamentals of this cutting-edge topic area. Whether you're a beginner or an experienced professional, this course will equip you with the knowledge you need to succeed. Enroll now!\n"
     ]
    }
   ],
   "source": [
    "print(user_prompt_for(AI))"
   ]
  },
  {
   "cell_type": "code",
   "execution_count": null,
   "id": "1a2b3219-e733-4631-9938-2c09dce4adeb",
   "metadata": {},
   "outputs": [],
   "source": []
  }
 ],
 "metadata": {
  "kernelspec": {
   "display_name": "Python 3 (ipykernel)",
   "language": "python",
   "name": "python3"
  },
  "language_info": {
   "codemirror_mode": {
    "name": "ipython",
    "version": 3
   },
   "file_extension": ".py",
   "mimetype": "text/x-python",
   "name": "python",
   "nbconvert_exporter": "python",
   "pygments_lexer": "ipython3",
   "version": "3.9.12"
  }
 },
 "nbformat": 4,
 "nbformat_minor": 5
}
